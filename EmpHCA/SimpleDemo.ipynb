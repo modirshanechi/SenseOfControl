{
 "cells": [
  {
   "cell_type": "code",
   "execution_count": null,
   "metadata": {},
   "outputs": [],
   "source": [
    "using Pkg\n",
    "Pkg.activate(\".\")"
   ]
  },
  {
   "cell_type": "markdown",
   "metadata": {},
   "source": [
    "## Loading Relevant Packages"
   ]
  },
  {
   "cell_type": "code",
   "execution_count": null,
   "metadata": {},
   "outputs": [],
   "source": [
    "using PyPlot\n",
    "using EmpHCA\n",
    "using LinearAlgebra\n",
    "using Random\n",
    "using Turing, MCMCChains, Distributions\n",
    "using DataFrames\n",
    "using CSV\n",
    "using JLD2\n",
    "using AdvancedMH\n",
    "using HypothesisTests\n",
    "\n",
    "import StatsPlots\n",
    "\n",
    "PyPlot.svg(true)\n",
    "rcParams = PyPlot.PyDict(PyPlot.matplotlib.\"rcParams\")\n",
    "rcParams[\"svg.fonttype\"] = \"none\"\n",
    "rcParams[\"pdf.fonttype\"] = 42"
   ]
  },
  {
   "cell_type": "markdown",
   "metadata": {},
   "source": [
    "## Loading behavioral data of Experiment 1"
   ]
  },
  {
   "cell_type": "code",
   "execution_count": null,
   "metadata": {},
   "outputs": [],
   "source": [
    "Path_Load = \"data/Experiment1/clean/\"\n",
    "\n",
    "# exclusion information\n",
    "ExcDF = DataFrame(CSV.File(Path_Load * \"ExclusionInfo.csv\"))\n",
    "# data of room selection\n",
    "dataDF = DataFrame(CSV.File(Path_Load * \"SelectionData.csv\"))\n",
    "# choosing subject ids of non-excluded participants\n",
    "subjectIDs = ExcDF.subject[ExcDF.task_outliers .== 0]\n",
    "\n",
    "dataDF\n"
   ]
  },
  {
   "cell_type": "markdown",
   "metadata": {},
   "source": [
    "Let's look at the data of participant 1:"
   ]
  },
  {
   "cell_type": "code",
   "execution_count": null,
   "metadata": {},
   "outputs": [],
   "source": [
    "i_sub = 1\n",
    "df = dataDF[dataDF.subject .== i_sub, :]\n",
    "# removing timed-out trials\n",
    "df = df[df.timeout .== false, :]"
   ]
  },
  {
   "cell_type": "code",
   "execution_count": null,
   "metadata": {},
   "outputs": [],
   "source": [
    "# Xinds: pairs of rooms indices shown to the participant \n",
    "# see src/Functions_for_gold.jl for the correspondance\n",
    "Xinds = [[df.room1[i], df.room2[i]] .+ 1 for i = 1:size(df)[1]]\n",
    "Xinds'"
   ]
  },
  {
   "cell_type": "code",
   "execution_count": null,
   "metadata": {},
   "outputs": [],
   "source": [
    "# as: sequence of rooms chosen by the participant\n",
    "as = df.action .+ 1;\n",
    "as'"
   ]
  },
  {
   "cell_type": "markdown",
   "metadata": {},
   "source": [
    "## Loading room information"
   ]
  },
  {
   "cell_type": "markdown",
   "metadata": {},
   "source": [
    "Information of different rooms to be used for inference"
   ]
  },
  {
   "cell_type": "code",
   "execution_count": null,
   "metadata": {},
   "outputs": [],
   "source": [
    "Prooms, ΔState, ΔStateDict = gold_proom_sets();\n",
    "N_rooms = length(Prooms); Ymax = 1; Xmax = 1;\n",
    "\n",
    "# transition probabilities for the center node in Room 2\n",
    "# Prooms[2][a,sp] is the probabilities of going to state sp after taking action a\n",
    "Prooms[2]"
   ]
  },
  {
   "cell_type": "code",
   "execution_count": null,
   "metadata": {},
   "outputs": [],
   "source": [
    "# mapping of sp to physical location\n",
    "ΔStateDict"
   ]
  },
  {
   "cell_type": "markdown",
   "metadata": {},
   "source": [
    "## Non-hierarchical model-selection"
   ]
  },
  {
   "cell_type": "markdown",
   "metadata": {},
   "source": [
    "This part perform the inference (for a single subject) corresponding to the generative model described in Methods (Eq. 7).\n",
    "On a normal computer, the inference takes around 3-5 minutes."
   ]
  },
  {
   "cell_type": "code",
   "execution_count": null,
   "metadata": {},
   "outputs": [],
   "source": [
    "# MCMC sampling hyperparameters\n",
    "n_chains = 3\n",
    "chain_lenght = 2500\n",
    "burn_in_lenght = 500\n",
    "sample_lenght = 10\n",
    "\n",
    "# transforming Xinds to the sequence of transition probabilities\n",
    "Xs = gold_Room2X_indexbased(Prooms, Xinds, ΔState, ΔStateDict, Xmax, Ymax,1)\n",
    "# transforming Xinds to the sequence of number of actions\n",
    "Nas = [[size(Prooms[x[1]])[1],size(Prooms[x[2]])[1]] for x = Xinds]\n",
    "\n",
    "# defining the generative model (see src/Functions_for_goldDataE1.jl)\n",
    "modelAll = TuringGoldBasicInfvsEmplvsNa(Xs, Xinds, Nas, as; N_rooms = N_rooms, K = 1)\n",
    "# defining the sampling method for MCMC (see Turing.jl tutorials)\n",
    "gAll = Gibbs(HMC(0.01, 50, :θ, :l, :β, :βa, :βθ), MH(:m, :γ))\n",
    "# inference\n",
    "chnAll = sample(modelAll, gAll,  MCMCThreads(), chain_lenght, n_chains);"
   ]
  },
  {
   "cell_type": "code",
   "execution_count": null,
   "metadata": {},
   "outputs": [],
   "source": [
    "# primary plotting the MCMC results\n",
    "StatsPlots.plot(chnAll; legend=true)"
   ]
  },
  {
   "cell_type": "code",
   "execution_count": null,
   "metadata": {},
   "outputs": [],
   "source": [
    "# cleaning up the MCMC samples by accounting for the burn-in length and thinning lenght\n",
    "chnAll_df = DataFrame(chnAll)\n",
    "filter!(row -> row.iteration > burn_in_lenght, chnAll_df)\n",
    "chnAll_df = chnAll_df[1:sample_lenght:size(chnAll_df)[1],:]"
   ]
  },
  {
   "cell_type": "code",
   "execution_count": null,
   "metadata": {},
   "outputs": [],
   "source": [
    "# plotting the processed results\n",
    "x = 1:4\n",
    "x_names = [\"Random\",\"N-Act\",\"Emp-l\",\"General\"]\n",
    "fig = figure(); ax = subplot(1,1,1)\n",
    "ax.bar(x,[mean(chnAll_df.m .== i) for i = x])\n",
    "ax.set_ylim([0,1]); ax.set_xlim([0,x[end]+1]); \n",
    "ax.set_xticks(x); ax.set_xticklabels(x_names,rotation = 90)\n",
    "ax.set_ylabel(\"P(Model | Data)\")\n",
    "display(fig)"
   ]
  }
 ],
 "metadata": {
  "@webio": {
   "lastCommId": null,
   "lastKernelId": null
  },
  "kernelspec": {
   "display_name": "Julia 1.11.6",
   "language": "julia",
   "name": "julia-1.11"
  },
  "language_info": {
   "file_extension": ".jl",
   "mimetype": "application/julia",
   "name": "julia",
   "version": "1.11.6"
  }
 },
 "nbformat": 4,
 "nbformat_minor": 4
}
